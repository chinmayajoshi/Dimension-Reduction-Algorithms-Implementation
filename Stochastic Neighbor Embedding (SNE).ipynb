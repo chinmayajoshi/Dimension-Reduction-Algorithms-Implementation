{
 "cells": [
  {
   "cell_type": "markdown",
   "metadata": {},
   "source": [
    "Rough Outline of Algorithm Optimization Steps:<br>\n",
    "    - Compute high dimensional probabilities p<br>\n",
    "    - Compute low dimensional probabilities q<br>\n",
    "    - Calculate the difference between the probabilities by a given cost function C(p,q)<br>\n",
    "    - Minimize the cost function<br>"
   ]
  },
  {
   "cell_type": "markdown",
   "metadata": {},
   "source": [
    "#### helper methods"
   ]
  },
  {
   "cell_type": "code",
   "execution_count": null,
   "metadata": {},
   "outputs": [],
   "source": [
    "import numpy as np\n",
    "\n",
    "def dissimilarity(x_i, x_j, sigma_i=1):\n",
    "    '''dissimilarity between two data points x_i and x_j ie. scaled euclidean distance'''\n",
    "    # TODO: calc sigma_i based on perplexity (k)\n",
    "\n",
    "    # If inputs are equal length\n",
    "    if len(x_i) == len(x_j):\n",
    "        squared_diff_sum = 0\n",
    "        # Calculate squared difference sum\n",
    "        for i in range(len(x_i)):\n",
    "            squared_diff_sum += (x_i[i] - x_j[i]) ** 2\n",
    "        numerator = squared_diff_sum\n",
    "    else: raise ValueError(\"Input vectors must have same length\")\n",
    "\n",
    "    # TODO: remove \n",
    "    # Check with np.linalg.norm\n",
    "    # numerator_test = np.linalg.norm(np.array(x_i) - np.array(x_j)) ** 2\n",
    "    # assert numerator_test == numerator \n",
    "    # np has more precision, ocassional error\n",
    "\n",
    "    denominator = 2 * (sigma_i ** 2)\n",
    "    return numerator / denominator\n",
    "\n",
    "# TODO: check pos of i and j\n",
    "def probability(points, i_index, j_index):\n",
    "    '''p_j_i: probability that the data point i would pick another point j as its neighbor'''\n",
    "    \n",
    "    x_i, x_j = points[i_index], points[j_index]   \n",
    "    numerator = np.e ** (-dissimilarity(x_i, x_j))\n",
    "    denomenator = np.sum([(np.e ** (-dissimilarity(points[k], x_i))) for k in range(len(points)) if k != i_index])\n",
    "\n",
    "    return numerator / denomenator\n",
    "\n",
    "def entropy(points): \n",
    "    '''Shannon Entropy (H)'''\n",
    "\n",
    "    i = 0\n",
    "    for j in range(len(points)):\n",
    "        probs_j_i = probability(points, j, i)\n",
    "    return -np.sum([(p * np.log2(p)) for p in probs_j_i])\n",
    "\n",
    "def perplexity(points):\n",
    "    '''Perplexity (k): effective number of local neighbors'''\n",
    "    return 2 ** (-entropy(points))"
   ]
  },
  {
   "cell_type": "code",
   "execution_count": 2,
   "metadata": {},
   "outputs": [
    {
     "name": "stdout",
     "output_type": "stream",
     "text": [
      "==============================\n",
      "Between [1, 2, 3] and [1, 2, 3]:\n",
      "\tdissimilarity = 0.0\n",
      "\tprobability of point_1 picking point_2 = 0.5\n",
      "==============================\n",
      "Between [1, 2, 3] and [1, 3, 2]:\n",
      "\tdissimilarity = 1.0\n",
      "\tprobability of point_1 picking point_2 = 1.3591409142295225\n",
      "==============================\n",
      "Between [1, 2, 3] and [5, 8, 9]:\n",
      "\tdissimilarity = 44.0\n",
      "\tprobability of point_1 picking point_2 = 3.8905661205669073e-20\n",
      "==============================\n",
      "Between [1, 2, 3] and [2, 2, 2]:\n",
      "\tdissimilarity = 1.0\n",
      "\tprobability of point_1 picking point_2 = 0.5\n"
     ]
    }
   ],
   "source": [
    "points = [[1, 2, 3], \n",
    "          [1, 3, 2],\n",
    "          [5, 8, 9],\n",
    "          [2, 2, 2]]\n",
    "\n",
    "for i in range(len(points)):\n",
    "    pt0 = points[0]\n",
    "    pti = points[i]\n",
    "    this_dissimilarity = dissimilarity(pt0, pti)\n",
    "    print('='*30)\n",
    "    print(f\"Between {pt0} and {pti}:\\n\\tdissimilarity = {this_dissimilarity}\")\n",
    "    print(f\"\\tprobability of point_1 picking point_2 = {probability(points, 1, i)}\")"
   ]
  }
 ],
 "metadata": {
  "kernelspec": {
   "display_name": "base",
   "language": "python",
   "name": "python3"
  },
  "language_info": {
   "codemirror_mode": {
    "name": "ipython",
    "version": 3
   },
   "file_extension": ".py",
   "mimetype": "text/x-python",
   "name": "python",
   "nbconvert_exporter": "python",
   "pygments_lexer": "ipython3",
   "version": "3.8.16"
  }
 },
 "nbformat": 4,
 "nbformat_minor": 2
}
