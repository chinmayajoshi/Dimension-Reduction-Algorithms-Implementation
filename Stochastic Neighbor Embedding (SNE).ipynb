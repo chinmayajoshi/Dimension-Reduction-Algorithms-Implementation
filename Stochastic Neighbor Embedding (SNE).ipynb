{
 "cells": [
  {
   "cell_type": "markdown",
   "metadata": {},
   "source": [
    "Rough Outline of Algorithm Optimization Steps:<br>\n",
    "    - Compute high dimensional probabilities p<br>\n",
    "    - Compute low dimensional probabilities q<br>\n",
    "    - Calculate the difference between the probabilities by a given cost function C(p,q)<br>\n",
    "    - Minimize the cost function<br>"
   ]
  },
  {
   "cell_type": "markdown",
   "metadata": {},
   "source": [
    "#### helper methods"
   ]
  },
  {
   "cell_type": "code",
   "execution_count": 5,
   "metadata": {},
   "outputs": [],
   "source": [
    "import numpy as np"
   ]
  },
  {
   "cell_type": "code",
   "execution_count": null,
   "metadata": {},
   "outputs": [],
   "source": [
    "def dissimilarity(x_i, x_j, sigma_i=1):\n",
    "    '''dissimilarity between two data points x_i and x_j ie. scaled euclidean distance'''\n",
    "    # TODO calc sigma_i based on perplexity (k)\n",
    "\n",
    "    # If inputs are equal length\n",
    "    if len(x_i) == len(x_j):\n",
    "        squared_diff_sum = 0\n",
    "        # Calculate squared difference sum\n",
    "        for i in range(len(x_i)):\n",
    "            squared_diff_sum += (x_i[i] - x_j[i]) ** 2\n",
    "        numerator = squared_diff_sum\n",
    "    else: raise ValueError(\"Input vectors must have same length\")\n",
    "\n",
    "    # Check with np.linalg.norm\n",
    "    numerator_test = np.linalg.norm(np.array(x_i) - np.array(x_j)) ** 2\n",
    "    assert numerator_test == numerator\n",
    "\n",
    "    denominator = 2 * (sigma_i ** 2)\n",
    "    return numerator / denominator\n",
    "\n",
    "def probability(points, x_i, x_j, e=np.e):\n",
    "    '''probability that the data point i would pick another point j as its neighbor'''\n",
    "    dissimilarity_j_i = dissimilarity(x_i, x_j)\n",
    "    np.sum([(e ** (-dissimilarity_j_i(points[k], x_i))) for k in range(len(points))])\n",
    "\n",
    "    return \n",
    "\n",
    "def entropy(probs_j_i): \n",
    "    '''Shannon Entropy (H)'''\n",
    "    return -np.sum([(p * np.log2(p)) for p in probs_j_i])\n",
    "\n",
    "def perplexity(p):\n",
    "    '''Perplexity (k)'''\n",
    "    return 2 ** (-entropy(p))"
   ]
  },
  {
   "cell_type": "code",
   "execution_count": 16,
   "metadata": {},
   "outputs": [
    {
     "data": {
      "text/plain": [
       "13.5"
      ]
     },
     "execution_count": 16,
     "metadata": {},
     "output_type": "execute_result"
    }
   ],
   "source": [
    "v1 = [1, 2, 3]\n",
    "v2 = [4, 5, 6]\n",
    "distance = dissimilarity(v1, v2)\n",
    "distance"
   ]
  },
  {
   "cell_type": "code",
   "execution_count": null,
   "metadata": {},
   "outputs": [],
   "source": []
  }
 ],
 "metadata": {
  "kernelspec": {
   "display_name": "base",
   "language": "python",
   "name": "python3"
  },
  "language_info": {
   "codemirror_mode": {
    "name": "ipython",
    "version": 3
   },
   "file_extension": ".py",
   "mimetype": "text/x-python",
   "name": "python",
   "nbconvert_exporter": "python",
   "pygments_lexer": "ipython3",
   "version": "3.8.16"
  }
 },
 "nbformat": 4,
 "nbformat_minor": 2
}
